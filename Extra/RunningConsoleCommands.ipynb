{
 "cells": [
  {
   "cell_type": "code",
   "execution_count": 7,
   "metadata": {},
   "outputs": [
    {
     "name": "stdout",
     "output_type": "stream",
     "text": [
      " Volume in drive C has no label.\n",
      " Volume Serial Number is 3A37-4C0C\n",
      "\n",
      " Directory of C:\\Users\\sylva\\Documents\\2020-IA-bonnes-pratiques-notebook\\Extra\n",
      "\n",
      "18/10/2020  10:11    <DIR>          .\n",
      "18/10/2020  10:11    <DIR>          ..\n",
      "18/10/2020  10:10    <DIR>          .ipynb_checkpoints\n",
      "18/10/2020  10:11             1,308 NotebookTemplate.ipynb\n",
      "18/10/2020  10:11             1,410 RunningConsoleCommands.ipynb\n",
      "               2 File(s)          2,718 bytes\n",
      "               3 Dir(s)  76,738,441,216 bytes free\n"
     ]
    }
   ],
   "source": [
    "!dir"
   ]
  },
  {
   "cell_type": "code",
   "execution_count": 8,
   "metadata": {},
   "outputs": [],
   "source": [
    "directory = !echo %cd%"
   ]
  },
  {
   "cell_type": "code",
   "execution_count": 9,
   "metadata": {},
   "outputs": [
    {
     "name": "stdout",
     "output_type": "stream",
     "text": [
      "['C:\\\\Users\\\\sylva\\\\Documents\\\\2020-IA-bonnes-pratiques-notebook\\\\Extra']\n"
     ]
    }
   ],
   "source": [
    "print(directory)"
   ]
  },
  {
   "cell_type": "code",
   "execution_count": null,
   "metadata": {},
   "outputs": [],
   "source": []
  }
 ],
 "metadata": {
  "kernelspec": {
   "display_name": "Python 3",
   "language": "python",
   "name": "python3"
  },
  "language_info": {
   "codemirror_mode": {
    "name": "ipython",
    "version": 3
   },
   "file_extension": ".py",
   "mimetype": "text/x-python",
   "name": "python",
   "nbconvert_exporter": "python",
   "pygments_lexer": "ipython3",
   "version": "3.8.2"
  }
 },
 "nbformat": 4,
 "nbformat_minor": 4
}
