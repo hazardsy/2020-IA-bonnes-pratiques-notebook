{
 "cells": [
  {
   "cell_type": "code",
   "execution_count": 1,
   "metadata": {
    "execution": {
     "iopub.execute_input": "2020-10-18T12:12:20.330038Z",
     "iopub.status.busy": "2020-10-18T12:12:20.329041Z",
     "iopub.status.idle": "2020-10-18T12:12:20.333059Z",
     "shell.execute_reply": "2020-10-18T12:12:20.333059Z"
    },
    "papermill": {
     "duration": 0.017939,
     "end_time": "2020-10-18T12:12:20.334057",
     "exception": false,
     "start_time": "2020-10-18T12:12:20.316118",
     "status": "completed"
    },
    "tags": []
   },
   "outputs": [],
   "source": [
    "import sys\n",
    "\n",
    "sys.path.append(\"..\")"
   ]
  },
  {
   "cell_type": "code",
   "execution_count": 2,
   "metadata": {
    "execution": {
     "iopub.execute_input": "2020-10-18T12:12:20.357963Z",
     "iopub.status.busy": "2020-10-18T12:12:20.356967Z",
     "iopub.status.idle": "2020-10-18T12:12:21.314181Z",
     "shell.execute_reply": "2020-10-18T12:12:21.313191Z"
    },
    "papermill": {
     "duration": 0.970139,
     "end_time": "2020-10-18T12:12:21.314181",
     "exception": false,
     "start_time": "2020-10-18T12:12:20.344042",
     "status": "completed"
    },
    "tags": []
   },
   "outputs": [],
   "source": [
    "import csv\n",
    "import json\n",
    "from source.DataTransformation import one_hot_encode, get_data_and_names, scale, split"
   ]
  },
  {
   "cell_type": "markdown",
   "metadata": {
    "papermill": {
     "duration": 0.007976,
     "end_time": "2020-10-18T12:12:21.333131",
     "exception": false,
     "start_time": "2020-10-18T12:12:21.325155",
     "status": "completed"
    },
    "tags": []
   },
   "source": [
    "# Lire la donnée"
   ]
  },
  {
   "cell_type": "code",
   "execution_count": 3,
   "metadata": {
    "execution": {
     "iopub.execute_input": "2020-10-18T12:12:21.356070Z",
     "iopub.status.busy": "2020-10-18T12:12:21.356070Z",
     "iopub.status.idle": "2020-10-18T12:12:21.361056Z",
     "shell.execute_reply": "2020-10-18T12:12:21.360075Z"
    },
    "papermill": {
     "duration": 0.018967,
     "end_time": "2020-10-18T12:12:21.362071",
     "exception": false,
     "start_time": "2020-10-18T12:12:21.343104",
     "status": "completed"
    },
    "tags": []
   },
   "outputs": [],
   "source": [
    "with open(\"../data/raw/iris.csv\", \"r\") as f:\n",
    "    iris = [row for row in csv.DictReader(f)]"
   ]
  },
  {
   "cell_type": "markdown",
   "metadata": {
    "papermill": {
     "duration": 0.006981,
     "end_time": "2020-10-18T12:12:21.378010",
     "exception": false,
     "start_time": "2020-10-18T12:12:21.371029",
     "status": "completed"
    },
    "tags": []
   },
   "source": [
    "# Transformer la donnée"
   ]
  },
  {
   "cell_type": "code",
   "execution_count": 4,
   "metadata": {
    "execution": {
     "iopub.execute_input": "2020-10-18T12:12:21.398954Z",
     "iopub.status.busy": "2020-10-18T12:12:21.397957Z",
     "iopub.status.idle": "2020-10-18T12:12:21.401947Z",
     "shell.execute_reply": "2020-10-18T12:12:21.400965Z"
    },
    "papermill": {
     "duration": 0.015955,
     "end_time": "2020-10-18T12:12:21.401947",
     "exception": false,
     "start_time": "2020-10-18T12:12:21.385992",
     "status": "completed"
    },
    "tags": []
   },
   "outputs": [],
   "source": [
    "X, Y, feature_names, class_names = get_data_and_names(iris)"
   ]
  },
  {
   "cell_type": "code",
   "execution_count": 5,
   "metadata": {
    "execution": {
     "iopub.execute_input": "2020-10-18T12:12:21.425391Z",
     "iopub.status.busy": "2020-10-18T12:12:21.424437Z",
     "iopub.status.idle": "2020-10-18T12:12:21.427385Z",
     "shell.execute_reply": "2020-10-18T12:12:21.428383Z"
    },
    "papermill": {
     "duration": 0.018458,
     "end_time": "2020-10-18T12:12:21.428383",
     "exception": false,
     "start_time": "2020-10-18T12:12:21.409925",
     "status": "completed"
    },
    "tags": []
   },
   "outputs": [],
   "source": [
    "encoded_Y = one_hot_encode(Y)\n",
    "\n",
    "# Scale data to have mean 0 and variance 1 \n",
    "# which is important for convergence of the neural network\n",
    "X_scaled = scale(X)\n",
    "\n",
    "(X_train, Y_train), (X_test, Y_test) = split(X_scaled, encoded_Y)\n",
    "\n",
    "n_features = len(feature_names)\n",
    "n_classes = len(class_names)"
   ]
  },
  {
   "cell_type": "markdown",
   "metadata": {
    "papermill": {
     "duration": 0.008977,
     "end_time": "2020-10-18T12:12:21.447334",
     "exception": false,
     "start_time": "2020-10-18T12:12:21.438357",
     "status": "completed"
    },
    "tags": []
   },
   "source": [
    "# Ecrire la donnée"
   ]
  },
  {
   "cell_type": "code",
   "execution_count": 6,
   "metadata": {
    "execution": {
     "iopub.execute_input": "2020-10-18T12:12:21.469275Z",
     "iopub.status.busy": "2020-10-18T12:12:21.469275Z",
     "iopub.status.idle": "2020-10-18T12:12:21.472296Z",
     "shell.execute_reply": "2020-10-18T12:12:21.471280Z"
    },
    "papermill": {
     "duration": 0.01499,
     "end_time": "2020-10-18T12:12:21.472296",
     "exception": false,
     "start_time": "2020-10-18T12:12:21.457306",
     "status": "completed"
    },
    "tags": []
   },
   "outputs": [],
   "source": [
    "training_data = {\n",
    "    \"X_train\": X_train.tolist(),\n",
    "    \"X_test\": X_test.tolist(),\n",
    "    \"Y_train\": Y_train.tolist(),\n",
    "    \"Y_test\": Y_test.tolist(),\n",
    "    \"n_features\": n_features,\n",
    "    \"n_classes\": n_classes\n",
    "}"
   ]
  },
  {
   "cell_type": "code",
   "execution_count": 7,
   "metadata": {
    "execution": {
     "iopub.execute_input": "2020-10-18T12:12:21.493209Z",
     "iopub.status.busy": "2020-10-18T12:12:21.492212Z",
     "iopub.status.idle": "2020-10-18T12:12:21.502217Z",
     "shell.execute_reply": "2020-10-18T12:12:21.501195Z"
    },
    "papermill": {
     "duration": 0.021941,
     "end_time": "2020-10-18T12:12:21.502217",
     "exception": false,
     "start_time": "2020-10-18T12:12:21.480276",
     "status": "completed"
    },
    "tags": []
   },
   "outputs": [],
   "source": [
    "with open(\"../data/processed/iris_training_data.json\", \"w+\") as f:\n",
    "    json.dump(training_data, f, ensure_ascii=False, indent=4)"
   ]
  },
  {
   "cell_type": "code",
   "execution_count": 8,
   "metadata": {
    "execution": {
     "iopub.execute_input": "2020-10-18T12:12:21.524100Z",
     "iopub.status.busy": "2020-10-18T12:12:21.522132Z",
     "iopub.status.idle": "2020-10-18T12:12:21.527084Z",
     "shell.execute_reply": "2020-10-18T12:12:21.526087Z"
    },
    "papermill": {
     "duration": 0.014925,
     "end_time": "2020-10-18T12:12:21.527084",
     "exception": false,
     "start_time": "2020-10-18T12:12:21.512159",
     "status": "completed"
    },
    "tags": []
   },
   "outputs": [],
   "source": [
    "visualisation_data = {\n",
    "    \"X\": X.tolist(),\n",
    "    \"y\": Y.tolist(),\n",
    "    \"names\": class_names,\n",
    "    \"feature_names\": feature_names,\n",
    "}"
   ]
  },
  {
   "cell_type": "code",
   "execution_count": 9,
   "metadata": {
    "execution": {
     "iopub.execute_input": "2020-10-18T12:12:21.550053Z",
     "iopub.status.busy": "2020-10-18T12:12:21.549027Z",
     "iopub.status.idle": "2020-10-18T12:12:21.555010Z",
     "shell.execute_reply": "2020-10-18T12:12:21.555010Z"
    },
    "papermill": {
     "duration": 0.019947,
     "end_time": "2020-10-18T12:12:21.556007",
     "exception": false,
     "start_time": "2020-10-18T12:12:21.536060",
     "status": "completed"
    },
    "tags": []
   },
   "outputs": [],
   "source": [
    "with open(\"../data/processed/iris_visualisation_data.json\", \"w+\") as f:\n",
    "    json.dump(visualisation_data, f, ensure_ascii=False, indent=4)"
   ]
  },
  {
   "cell_type": "code",
   "execution_count": null,
   "metadata": {
    "papermill": {
     "duration": 0.009974,
     "end_time": "2020-10-18T12:12:21.574957",
     "exception": false,
     "start_time": "2020-10-18T12:12:21.564983",
     "status": "completed"
    },
    "tags": []
   },
   "outputs": [],
   "source": []
  }
 ],
 "metadata": {
  "kernelspec": {
   "display_name": "Python 3",
   "language": "python",
   "name": "python3"
  },
  "language_info": {
   "codemirror_mode": {
    "name": "ipython",
    "version": 3
   },
   "file_extension": ".py",
   "mimetype": "text/x-python",
   "name": "python",
   "nbconvert_exporter": "python",
   "pygments_lexer": "ipython3",
   "version": "3.8.2"
  },
  "papermill": {
   "default_parameters": {},
   "duration": 2.8939,
   "end_time": "2020-10-18T12:12:21.890704",
   "environment_variables": {},
   "exception": null,
   "input_path": "1-Read-And-Transform-Data.ipynb",
   "output_path": "./papermill_executions/1603023051.3187397\\1-Read-And-Transform-Data.ipynb",
   "parameters": {},
   "start_time": "2020-10-18T12:12:18.996804",
   "version": "2.2.0"
  }
 },
 "nbformat": 4,
 "nbformat_minor": 4
}