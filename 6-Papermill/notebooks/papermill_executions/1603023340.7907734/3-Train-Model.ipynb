{
 "cells": [
  {
   "cell_type": "code",
   "execution_count": 1,
   "metadata": {
    "execution": {
     "iopub.execute_input": "2020-10-18T12:15:52.232589Z",
     "iopub.status.busy": "2020-10-18T12:15:52.231595Z",
     "iopub.status.idle": "2020-10-18T12:15:52.235586Z",
     "shell.execute_reply": "2020-10-18T12:15:52.235586Z"
    },
    "papermill": {
     "duration": 0.016955,
     "end_time": "2020-10-18T12:15:52.236578",
     "exception": false,
     "start_time": "2020-10-18T12:15:52.219623",
     "status": "completed"
    },
    "tags": []
   },
   "outputs": [],
   "source": [
    "import sys\n",
    "\n",
    "sys.path.append(\"..\")"
   ]
  },
  {
   "cell_type": "code",
   "execution_count": 2,
   "metadata": {
    "execution": {
     "iopub.execute_input": "2020-10-18T12:15:52.261513Z",
     "iopub.status.busy": "2020-10-18T12:15:52.260515Z",
     "iopub.status.idle": "2020-10-18T12:15:55.430258Z",
     "shell.execute_reply": "2020-10-18T12:15:55.431282Z"
    },
    "papermill": {
     "duration": 3.182736,
     "end_time": "2020-10-18T12:15:55.431282",
     "exception": false,
     "start_time": "2020-10-18T12:15:52.248546",
     "status": "completed"
    },
    "tags": []
   },
   "outputs": [],
   "source": [
    "import json\n",
    "from keras.callbacks import TensorBoard"
   ]
  },
  {
   "cell_type": "code",
   "execution_count": 3,
   "metadata": {
    "execution": {
     "iopub.execute_input": "2020-10-18T12:15:55.455193Z",
     "iopub.status.busy": "2020-10-18T12:15:55.454195Z",
     "iopub.status.idle": "2020-10-18T12:15:55.461176Z",
     "shell.execute_reply": "2020-10-18T12:15:55.462202Z"
    },
    "papermill": {
     "duration": 0.020957,
     "end_time": "2020-10-18T12:15:55.462202",
     "exception": false,
     "start_time": "2020-10-18T12:15:55.441245",
     "status": "completed"
    },
    "tags": []
   },
   "outputs": [],
   "source": [
    "from source.Training import create_model, train_model"
   ]
  },
  {
   "cell_type": "markdown",
   "metadata": {
    "papermill": {
     "duration": 0.00798,
     "end_time": "2020-10-18T12:15:55.480126",
     "exception": false,
     "start_time": "2020-10-18T12:15:55.472146",
     "status": "completed"
    },
    "tags": []
   },
   "source": [
    "# Load data"
   ]
  },
  {
   "cell_type": "code",
   "execution_count": 4,
   "metadata": {
    "execution": {
     "iopub.execute_input": "2020-10-18T12:15:55.503064Z",
     "iopub.status.busy": "2020-10-18T12:15:55.502066Z",
     "iopub.status.idle": "2020-10-18T12:15:55.512039Z",
     "shell.execute_reply": "2020-10-18T12:15:55.512039Z"
    },
    "papermill": {
     "duration": 0.023931,
     "end_time": "2020-10-18T12:15:55.513037",
     "exception": false,
     "start_time": "2020-10-18T12:15:55.489106",
     "status": "completed"
    },
    "tags": []
   },
   "outputs": [],
   "source": [
    "with open(\"../data/processed/iris_training_data.json\", \"r\") as f:\n",
    "    data = json.load(f)"
   ]
  },
  {
   "cell_type": "code",
   "execution_count": 5,
   "metadata": {
    "execution": {
     "iopub.execute_input": "2020-10-18T12:15:55.535015Z",
     "iopub.status.busy": "2020-10-18T12:15:55.534027Z",
     "iopub.status.idle": "2020-10-18T12:15:55.537013Z",
     "shell.execute_reply": "2020-10-18T12:15:55.538008Z"
    },
    "papermill": {
     "duration": 0.015995,
     "end_time": "2020-10-18T12:15:55.538008",
     "exception": false,
     "start_time": "2020-10-18T12:15:55.522013",
     "status": "completed"
    },
    "tags": []
   },
   "outputs": [],
   "source": [
    "X_train = data.get(\"X_train\")\n",
    "X_test = data.get(\"X_test\")\n",
    "Y_train = data.get(\"Y_train\")\n",
    "Y_test = data.get(\"Y_test\")\n",
    "n_features = data.get(\"n_features\")\n",
    "n_classes = data.get(\"n_classes\")"
   ]
  },
  {
   "cell_type": "markdown",
   "metadata": {
    "papermill": {
     "duration": 0.00996,
     "end_time": "2020-10-18T12:15:55.557954",
     "exception": false,
     "start_time": "2020-10-18T12:15:55.547994",
     "status": "completed"
    },
    "tags": []
   },
   "source": [
    "# Create models"
   ]
  },
  {
   "cell_type": "code",
   "execution_count": 6,
   "metadata": {
    "execution": {
     "iopub.execute_input": "2020-10-18T12:15:55.582888Z",
     "iopub.status.busy": "2020-10-18T12:15:55.582888Z",
     "iopub.status.idle": "2020-10-18T12:15:55.585908Z",
     "shell.execute_reply": "2020-10-18T12:15:55.585908Z"
    },
    "papermill": {
     "duration": 0.01798,
     "end_time": "2020-10-18T12:15:55.585908",
     "exception": false,
     "start_time": "2020-10-18T12:15:55.567928",
     "status": "completed"
    },
    "tags": [
     "parameters"
    ]
   },
   "outputs": [],
   "source": [
    "n_models = 3"
   ]
  },
  {
   "cell_type": "code",
   "execution_count": 7,
   "metadata": {
    "execution": {
     "iopub.execute_input": "2020-10-18T12:15:55.608817Z",
     "iopub.status.busy": "2020-10-18T12:15:55.608817Z",
     "iopub.status.idle": "2020-10-18T12:15:55.610823Z",
     "shell.execute_reply": "2020-10-18T12:15:55.611841Z"
    },
    "papermill": {
     "duration": 0.016987,
     "end_time": "2020-10-18T12:15:55.611841",
     "exception": false,
     "start_time": "2020-10-18T12:15:55.594854",
     "status": "completed"
    },
    "tags": [
     "injected-parameters"
    ]
   },
   "outputs": [],
   "source": [
    "# Parameters\n",
    "n_models = 4\n"
   ]
  },
  {
   "cell_type": "code",
   "execution_count": 8,
   "metadata": {
    "execution": {
     "iopub.execute_input": "2020-10-18T12:15:55.634748Z",
     "iopub.status.busy": "2020-10-18T12:15:55.633760Z",
     "iopub.status.idle": "2020-10-18T12:15:56.291034Z",
     "shell.execute_reply": "2020-10-18T12:15:56.290037Z"
    },
    "papermill": {
     "duration": 0.66924,
     "end_time": "2020-10-18T12:15:56.291034",
     "exception": false,
     "start_time": "2020-10-18T12:15:55.621794",
     "status": "completed"
    },
    "tags": []
   },
   "outputs": [
    {
     "name": "stdout",
     "output_type": "stream",
     "text": [
      "Model: \"model_1\"\n",
      "_________________________________________________________________\n",
      "Layer (type)                 Output Shape              Param #   \n",
      "=================================================================\n",
      "dense (Dense)                (None, 8)                 40        \n",
      "_________________________________________________________________\n",
      "dense_1 (Dense)              (None, 3)                 27        \n",
      "=================================================================\n",
      "Total params: 67\n",
      "Trainable params: 67\n",
      "Non-trainable params: 0\n",
      "_________________________________________________________________\n",
      "Model: \"model_2\"\n",
      "_________________________________________________________________\n",
      "Layer (type)                 Output Shape              Param #   \n",
      "=================================================================\n",
      "dense_2 (Dense)              (None, 8)                 40        \n",
      "_________________________________________________________________\n",
      "dense_3 (Dense)              (None, 8)                 72        \n",
      "_________________________________________________________________\n",
      "dense_4 (Dense)              (None, 3)                 27        \n",
      "=================================================================\n",
      "Total params: 139\n",
      "Trainable params: 139\n",
      "Non-trainable params: 0\n",
      "_________________________________________________________________\n",
      "Model: \"model_3\"\n",
      "_________________________________________________________________\n",
      "Layer (type)                 Output Shape              Param #   \n",
      "=================================================================\n",
      "dense_5 (Dense)              (None, 8)                 40        \n",
      "_________________________________________________________________\n",
      "dense_6 (Dense)              (None, 8)                 72        \n",
      "_________________________________________________________________\n",
      "dense_7 (Dense)              (None, 8)                 72        \n",
      "_________________________________________________________________\n",
      "dense_8 (Dense)              (None, 3)                 27        \n",
      "=================================================================\n",
      "Total params: 211\n",
      "Trainable params: 211\n",
      "Non-trainable params: 0\n",
      "_________________________________________________________________\n",
      "Model: \"model_4\"\n",
      "_________________________________________________________________\n",
      "Layer (type)                 Output Shape              Param #   \n",
      "=================================================================\n",
      "dense_9 (Dense)              (None, 8)                 40        \n",
      "_________________________________________________________________\n",
      "dense_10 (Dense)             (None, 8)                 72        \n",
      "_________________________________________________________________\n",
      "dense_11 (Dense)             (None, 8)                 72        \n",
      "_________________________________________________________________\n",
      "dense_12 (Dense)             (None, 8)                 72        \n",
      "_________________________________________________________________\n",
      "dense_13 (Dense)             (None, 3)                 27        \n",
      "=================================================================\n",
      "Total params: 283\n",
      "Trainable params: 283\n",
      "Non-trainable params: 0\n",
      "_________________________________________________________________\n"
     ]
    }
   ],
   "source": [
    "models = [create_model(n_features, n_classes, 8, i, f\"model_{i}\") for i in range(1, n_models + 1)]\n",
    "\n",
    "for model in models:\n",
    "    model.summary()"
   ]
  },
  {
   "cell_type": "markdown",
   "metadata": {
    "papermill": {
     "duration": 0.009974,
     "end_time": "2020-10-18T12:15:56.311979",
     "exception": false,
     "start_time": "2020-10-18T12:15:56.302005",
     "status": "completed"
    },
    "tags": []
   },
   "source": [
    "# Train"
   ]
  },
  {
   "cell_type": "code",
   "execution_count": 9,
   "metadata": {
    "execution": {
     "iopub.execute_input": "2020-10-18T12:15:56.364348Z",
     "iopub.status.busy": "2020-10-18T12:15:56.361356Z",
     "iopub.status.idle": "2020-10-18T12:16:20.636538Z",
     "shell.execute_reply": "2020-10-18T12:16:20.637527Z"
    },
    "papermill": {
     "duration": 24.314579,
     "end_time": "2020-10-18T12:16:20.637527",
     "exception": false,
     "start_time": "2020-10-18T12:15:56.322948",
     "status": "completed"
    },
    "tags": []
   },
   "outputs": [
    {
     "name": "stdout",
     "output_type": "stream",
     "text": [
      "Model name: model_1\n"
     ]
    },
    {
     "name": "stdout",
     "output_type": "stream",
     "text": [
      "Test loss: 0.35082876682281494\n",
      "Test accuracy: 0.8799999952316284\n",
      "\n"
     ]
    },
    {
     "name": "stdout",
     "output_type": "stream",
     "text": [
      "Model name: model_2\n"
     ]
    },
    {
     "name": "stdout",
     "output_type": "stream",
     "text": [
      "Test loss: 0.27278202772140503\n",
      "Test accuracy: 0.9200000166893005\n",
      "\n"
     ]
    },
    {
     "name": "stdout",
     "output_type": "stream",
     "text": [
      "Model name: model_3\n"
     ]
    },
    {
     "name": "stdout",
     "output_type": "stream",
     "text": [
      "Test loss: 0.20980896055698395\n",
      "Test accuracy: 0.9200000166893005\n",
      "\n"
     ]
    },
    {
     "name": "stdout",
     "output_type": "stream",
     "text": [
      "Model name: model_4\n"
     ]
    },
    {
     "name": "stdout",
     "output_type": "stream",
     "text": [
      "Test loss: 0.17461995780467987\n",
      "Test accuracy: 0.9333333373069763\n",
      "\n"
     ]
    }
   ],
   "source": [
    "history_dict = {}\n",
    "\n",
    "cb = TensorBoard()\n",
    "\n",
    "for model in models:\n",
    "    history_dict[model.name] = train_model(model, (X_train, X_test), (Y_train, Y_test), callbacks=[cb])"
   ]
  },
  {
   "cell_type": "code",
   "execution_count": 10,
   "metadata": {
    "execution": {
     "iopub.execute_input": "2020-10-18T12:16:20.669441Z",
     "iopub.status.busy": "2020-10-18T12:16:20.668444Z",
     "iopub.status.idle": "2020-10-18T12:16:20.675425Z",
     "shell.execute_reply": "2020-10-18T12:16:20.676426Z"
    },
    "papermill": {
     "duration": 0.024909,
     "end_time": "2020-10-18T12:16:20.676426",
     "exception": false,
     "start_time": "2020-10-18T12:16:20.651517",
     "status": "completed"
    },
    "tags": []
   },
   "outputs": [],
   "source": [
    "with open(\"../data/processed/training_results.json\", \"w+\") as f:\n",
    "    json.dump(history_dict, f, ensure_ascii=False, indent=4)"
   ]
  },
  {
   "cell_type": "code",
   "execution_count": null,
   "metadata": {
    "papermill": {
     "duration": 0.013964,
     "end_time": "2020-10-18T12:16:20.703351",
     "exception": false,
     "start_time": "2020-10-18T12:16:20.689387",
     "status": "completed"
    },
    "tags": []
   },
   "outputs": [],
   "source": []
  }
 ],
 "metadata": {
  "kernelspec": {
   "display_name": "Python 3",
   "language": "python",
   "name": "python3"
  },
  "language_info": {
   "codemirror_mode": {
    "name": "ipython",
    "version": 3
   },
   "file_extension": ".py",
   "mimetype": "text/x-python",
   "name": "python",
   "nbconvert_exporter": "python",
   "pygments_lexer": "ipython3",
   "version": "3.8.2"
  },
  "papermill": {
   "default_parameters": {},
   "duration": 31.102809,
   "end_time": "2020-10-18T12:16:22.035166",
   "environment_variables": {},
   "exception": null,
   "input_path": "3-Train-Model.ipynb",
   "output_path": "./papermill_executions/1603023340.7907734\\3-Train-Model.ipynb",
   "parameters": {
    "n_models": 4
   },
   "start_time": "2020-10-18T12:15:50.932357",
   "version": "2.2.0"
  }
 },
 "nbformat": 4,
 "nbformat_minor": 4
}