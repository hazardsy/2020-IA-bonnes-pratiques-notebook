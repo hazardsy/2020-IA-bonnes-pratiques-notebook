{
 "cells": [
  {
   "cell_type": "code",
   "execution_count": 1,
   "metadata": {
    "execution": {
     "iopub.execute_input": "2020-10-18T12:15:42.197522Z",
     "iopub.status.busy": "2020-10-18T12:15:42.197522Z",
     "iopub.status.idle": "2020-10-18T12:15:42.200514Z",
     "shell.execute_reply": "2020-10-18T12:15:42.200514Z"
    },
    "papermill": {
     "duration": 0.013963,
     "end_time": "2020-10-18T12:15:42.200514",
     "exception": false,
     "start_time": "2020-10-18T12:15:42.186551",
     "status": "completed"
    },
    "tags": []
   },
   "outputs": [],
   "source": [
    "import sys\n",
    "\n",
    "sys.path.append(\"..\")"
   ]
  },
  {
   "cell_type": "code",
   "execution_count": 2,
   "metadata": {
    "execution": {
     "iopub.execute_input": "2020-10-18T12:15:42.225447Z",
     "iopub.status.busy": "2020-10-18T12:15:42.224451Z",
     "iopub.status.idle": "2020-10-18T12:15:43.246611Z",
     "shell.execute_reply": "2020-10-18T12:15:43.246611Z"
    },
    "papermill": {
     "duration": 1.03613,
     "end_time": "2020-10-18T12:15:43.247617",
     "exception": false,
     "start_time": "2020-10-18T12:15:42.211487",
     "status": "completed"
    },
    "tags": []
   },
   "outputs": [],
   "source": [
    "import csv\n",
    "import json\n",
    "from source.DataTransformation import one_hot_encode, get_data_and_names, scale, split"
   ]
  },
  {
   "cell_type": "markdown",
   "metadata": {
    "papermill": {
     "duration": 0.007968,
     "end_time": "2020-10-18T12:15:43.264561",
     "exception": false,
     "start_time": "2020-10-18T12:15:43.256593",
     "status": "completed"
    },
    "tags": []
   },
   "source": [
    "# Lire la donnée"
   ]
  },
  {
   "cell_type": "code",
   "execution_count": 3,
   "metadata": {
    "execution": {
     "iopub.execute_input": "2020-10-18T12:15:43.288506Z",
     "iopub.status.busy": "2020-10-18T12:15:43.287501Z",
     "iopub.status.idle": "2020-10-18T12:15:43.292503Z",
     "shell.execute_reply": "2020-10-18T12:15:43.292503Z"
    },
    "papermill": {
     "duration": 0.01797,
     "end_time": "2020-10-18T12:15:43.293512",
     "exception": false,
     "start_time": "2020-10-18T12:15:43.275542",
     "status": "completed"
    },
    "tags": []
   },
   "outputs": [],
   "source": [
    "with open(\"../data/raw/iris.csv\", \"r\") as f:\n",
    "    iris = [row for row in csv.DictReader(f)]"
   ]
  },
  {
   "cell_type": "markdown",
   "metadata": {
    "papermill": {
     "duration": 0.00996,
     "end_time": "2020-10-18T12:15:43.310453",
     "exception": false,
     "start_time": "2020-10-18T12:15:43.300493",
     "status": "completed"
    },
    "tags": []
   },
   "source": [
    "# Transformer la donnée"
   ]
  },
  {
   "cell_type": "code",
   "execution_count": 4,
   "metadata": {
    "execution": {
     "iopub.execute_input": "2020-10-18T12:15:43.332380Z",
     "iopub.status.busy": "2020-10-18T12:15:43.332380Z",
     "iopub.status.idle": "2020-10-18T12:15:43.335372Z",
     "shell.execute_reply": "2020-10-18T12:15:43.335372Z"
    },
    "papermill": {
     "duration": 0.017925,
     "end_time": "2020-10-18T12:15:43.335372",
     "exception": false,
     "start_time": "2020-10-18T12:15:43.317447",
     "status": "completed"
    },
    "tags": []
   },
   "outputs": [],
   "source": [
    "X, Y, feature_names, class_names = get_data_and_names(iris)"
   ]
  },
  {
   "cell_type": "code",
   "execution_count": 5,
   "metadata": {
    "execution": {
     "iopub.execute_input": "2020-10-18T12:15:43.358342Z",
     "iopub.status.busy": "2020-10-18T12:15:43.357323Z",
     "iopub.status.idle": "2020-10-18T12:15:43.366317Z",
     "shell.execute_reply": "2020-10-18T12:15:43.366317Z"
    },
    "papermill": {
     "duration": 0.020962,
     "end_time": "2020-10-18T12:15:43.366317",
     "exception": false,
     "start_time": "2020-10-18T12:15:43.345355",
     "status": "completed"
    },
    "tags": []
   },
   "outputs": [],
   "source": [
    "encoded_Y = one_hot_encode(Y)\n",
    "\n",
    "# Scale data to have mean 0 and variance 1 \n",
    "# which is important for convergence of the neural network\n",
    "X_scaled = scale(X)\n",
    "\n",
    "(X_train, Y_train), (X_test, Y_test) = split(X_scaled, encoded_Y)\n",
    "\n",
    "n_features = len(feature_names)\n",
    "n_classes = len(class_names)"
   ]
  },
  {
   "cell_type": "markdown",
   "metadata": {
    "papermill": {
     "duration": 0.007979,
     "end_time": "2020-10-18T12:15:43.385238",
     "exception": false,
     "start_time": "2020-10-18T12:15:43.377259",
     "status": "completed"
    },
    "tags": []
   },
   "source": [
    "# Ecrire la donnée"
   ]
  },
  {
   "cell_type": "code",
   "execution_count": 6,
   "metadata": {
    "execution": {
     "iopub.execute_input": "2020-10-18T12:15:43.407179Z",
     "iopub.status.busy": "2020-10-18T12:15:43.406185Z",
     "iopub.status.idle": "2020-10-18T12:15:43.409175Z",
     "shell.execute_reply": "2020-10-18T12:15:43.409175Z"
    },
    "papermill": {
     "duration": 0.015959,
     "end_time": "2020-10-18T12:15:43.410172",
     "exception": false,
     "start_time": "2020-10-18T12:15:43.394213",
     "status": "completed"
    },
    "tags": []
   },
   "outputs": [],
   "source": [
    "training_data = {\n",
    "    \"X_train\": X_train.tolist(),\n",
    "    \"X_test\": X_test.tolist(),\n",
    "    \"Y_train\": Y_train.tolist(),\n",
    "    \"Y_test\": Y_test.tolist(),\n",
    "    \"n_features\": n_features,\n",
    "    \"n_classes\": n_classes\n",
    "}"
   ]
  },
  {
   "cell_type": "code",
   "execution_count": 7,
   "metadata": {
    "execution": {
     "iopub.execute_input": "2020-10-18T12:15:43.432113Z",
     "iopub.status.busy": "2020-10-18T12:15:43.431116Z",
     "iopub.status.idle": "2020-10-18T12:15:43.440091Z",
     "shell.execute_reply": "2020-10-18T12:15:43.440091Z"
    },
    "papermill": {
     "duration": 0.021939,
     "end_time": "2020-10-18T12:15:43.441088",
     "exception": false,
     "start_time": "2020-10-18T12:15:43.419149",
     "status": "completed"
    },
    "tags": []
   },
   "outputs": [],
   "source": [
    "with open(\"../data/processed/iris_training_data.json\", \"w+\") as f:\n",
    "    json.dump(training_data, f, ensure_ascii=False, indent=4)"
   ]
  },
  {
   "cell_type": "code",
   "execution_count": 8,
   "metadata": {
    "execution": {
     "iopub.execute_input": "2020-10-18T12:15:43.462062Z",
     "iopub.status.busy": "2020-10-18T12:15:43.461051Z",
     "iopub.status.idle": "2020-10-18T12:15:43.463030Z",
     "shell.execute_reply": "2020-10-18T12:15:43.464058Z"
    },
    "papermill": {
     "duration": 0.014963,
     "end_time": "2020-10-18T12:15:43.464058",
     "exception": false,
     "start_time": "2020-10-18T12:15:43.449095",
     "status": "completed"
    },
    "tags": []
   },
   "outputs": [],
   "source": [
    "visualisation_data = {\n",
    "    \"X\": X.tolist(),\n",
    "    \"y\": Y.tolist(),\n",
    "    \"names\": class_names,\n",
    "    \"feature_names\": feature_names,\n",
    "}"
   ]
  },
  {
   "cell_type": "code",
   "execution_count": 9,
   "metadata": {
    "execution": {
     "iopub.execute_input": "2020-10-18T12:15:43.484971Z",
     "iopub.status.busy": "2020-10-18T12:15:43.484971Z",
     "iopub.status.idle": "2020-10-18T12:15:43.492949Z",
     "shell.execute_reply": "2020-10-18T12:15:43.491952Z"
    },
    "papermill": {
     "duration": 0.019946,
     "end_time": "2020-10-18T12:15:43.492949",
     "exception": false,
     "start_time": "2020-10-18T12:15:43.473003",
     "status": "completed"
    },
    "tags": []
   },
   "outputs": [],
   "source": [
    "with open(\"../data/processed/iris_visualisation_data.json\", \"w+\") as f:\n",
    "    json.dump(visualisation_data, f, ensure_ascii=False, indent=4)"
   ]
  },
  {
   "cell_type": "code",
   "execution_count": null,
   "metadata": {
    "papermill": {
     "duration": 0.010971,
     "end_time": "2020-10-18T12:15:43.512896",
     "exception": false,
     "start_time": "2020-10-18T12:15:43.501925",
     "status": "completed"
    },
    "tags": []
   },
   "outputs": [],
   "source": []
  }
 ],
 "metadata": {
  "kernelspec": {
   "display_name": "Python 3",
   "language": "python",
   "name": "python3"
  },
  "language_info": {
   "codemirror_mode": {
    "name": "ipython",
    "version": 3
   },
   "file_extension": ".py",
   "mimetype": "text/x-python",
   "name": "python",
   "nbconvert_exporter": "python",
   "pygments_lexer": "ipython3",
   "version": "3.8.2"
  },
  "papermill": {
   "default_parameters": {},
   "duration": 2.93967,
   "end_time": "2020-10-18T12:15:43.830176",
   "environment_variables": {},
   "exception": null,
   "input_path": "1-Read-And-Transform-Data.ipynb",
   "output_path": "./papermill_executions/1603023340.7907734\\1-Read-And-Transform-Data.ipynb",
   "parameters": {},
   "start_time": "2020-10-18T12:15:40.890506",
   "version": "2.2.0"
  }
 },
 "nbformat": 4,
 "nbformat_minor": 4
}