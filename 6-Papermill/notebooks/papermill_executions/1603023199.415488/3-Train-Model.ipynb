{
 "cells": [
  {
   "cell_type": "code",
   "execution_count": 1,
   "metadata": {
    "execution": {
     "iopub.execute_input": "2020-10-18T12:13:36.306109Z",
     "iopub.status.busy": "2020-10-18T12:13:36.305110Z",
     "iopub.status.idle": "2020-10-18T12:13:36.309129Z",
     "shell.execute_reply": "2020-10-18T12:13:36.309129Z"
    },
    "papermill": {
     "duration": 0.015985,
     "end_time": "2020-10-18T12:13:36.310128",
     "exception": false,
     "start_time": "2020-10-18T12:13:36.294143",
     "status": "completed"
    },
    "tags": []
   },
   "outputs": [],
   "source": [
    "import sys\n",
    "\n",
    "sys.path.append(\"..\")"
   ]
  },
  {
   "cell_type": "code",
   "execution_count": 2,
   "metadata": {
    "execution": {
     "iopub.execute_input": "2020-10-18T12:13:36.329761Z",
     "iopub.status.busy": "2020-10-18T12:13:36.328764Z",
     "iopub.status.idle": "2020-10-18T12:13:39.620877Z",
     "shell.execute_reply": "2020-10-18T12:13:39.619879Z"
    },
    "papermill": {
     "duration": 3.302773,
     "end_time": "2020-10-18T12:13:39.620877",
     "exception": false,
     "start_time": "2020-10-18T12:13:36.318104",
     "status": "completed"
    },
    "tags": []
   },
   "outputs": [],
   "source": [
    "import json\n",
    "from keras.callbacks import TensorBoard"
   ]
  },
  {
   "cell_type": "code",
   "execution_count": 3,
   "metadata": {
    "execution": {
     "iopub.execute_input": "2020-10-18T12:13:39.642818Z",
     "iopub.status.busy": "2020-10-18T12:13:39.641821Z",
     "iopub.status.idle": "2020-10-18T12:13:39.651796Z",
     "shell.execute_reply": "2020-10-18T12:13:39.652791Z"
    },
    "papermill": {
     "duration": 0.022931,
     "end_time": "2020-10-18T12:13:39.652791",
     "exception": false,
     "start_time": "2020-10-18T12:13:39.629860",
     "status": "completed"
    },
    "tags": []
   },
   "outputs": [],
   "source": [
    "from source.Training import create_model, train_model"
   ]
  },
  {
   "cell_type": "markdown",
   "metadata": {
    "papermill": {
     "duration": 0.008979,
     "end_time": "2020-10-18T12:13:39.668751",
     "exception": false,
     "start_time": "2020-10-18T12:13:39.659772",
     "status": "completed"
    },
    "tags": []
   },
   "source": [
    "# Load data"
   ]
  },
  {
   "cell_type": "code",
   "execution_count": 4,
   "metadata": {
    "execution": {
     "iopub.execute_input": "2020-10-18T12:13:39.687698Z",
     "iopub.status.busy": "2020-10-18T12:13:39.686700Z",
     "iopub.status.idle": "2020-10-18T12:13:39.696674Z",
     "shell.execute_reply": "2020-10-18T12:13:39.695698Z"
    },
    "papermill": {
     "duration": 0.020944,
     "end_time": "2020-10-18T12:13:39.696674",
     "exception": false,
     "start_time": "2020-10-18T12:13:39.675730",
     "status": "completed"
    },
    "tags": []
   },
   "outputs": [],
   "source": [
    "with open(\"../data/processed/iris_training_data.json\", \"r\") as f:\n",
    "    data = json.load(f)"
   ]
  },
  {
   "cell_type": "code",
   "execution_count": 5,
   "metadata": {
    "execution": {
     "iopub.execute_input": "2020-10-18T12:13:39.715623Z",
     "iopub.status.busy": "2020-10-18T12:13:39.715623Z",
     "iopub.status.idle": "2020-10-18T12:13:39.718615Z",
     "shell.execute_reply": "2020-10-18T12:13:39.718615Z"
    },
    "papermill": {
     "duration": 0.01496,
     "end_time": "2020-10-18T12:13:39.718615",
     "exception": false,
     "start_time": "2020-10-18T12:13:39.703655",
     "status": "completed"
    },
    "tags": []
   },
   "outputs": [],
   "source": [
    "X_train = data.get(\"X_train\")\n",
    "X_test = data.get(\"X_test\")\n",
    "Y_train = data.get(\"Y_train\")\n",
    "Y_test = data.get(\"Y_test\")\n",
    "n_features = data.get(\"n_features\")\n",
    "n_classes = data.get(\"n_classes\")"
   ]
  },
  {
   "cell_type": "markdown",
   "metadata": {
    "papermill": {
     "duration": 0.007978,
     "end_time": "2020-10-18T12:13:39.733575",
     "exception": false,
     "start_time": "2020-10-18T12:13:39.725597",
     "status": "completed"
    },
    "tags": []
   },
   "source": [
    "# Create models"
   ]
  },
  {
   "cell_type": "code",
   "execution_count": 6,
   "metadata": {
    "execution": {
     "iopub.execute_input": "2020-10-18T12:13:39.755518Z",
     "iopub.status.busy": "2020-10-18T12:13:39.754519Z",
     "iopub.status.idle": "2020-10-18T12:13:40.460488Z",
     "shell.execute_reply": "2020-10-18T12:13:40.460488Z"
    },
    "papermill": {
     "duration": 0.717937,
     "end_time": "2020-10-18T12:13:40.460488",
     "exception": false,
     "start_time": "2020-10-18T12:13:39.742551",
     "status": "completed"
    },
    "tags": []
   },
   "outputs": [
    {
     "name": "stdout",
     "output_type": "stream",
     "text": [
      "Model: \"model_1\"\n",
      "_________________________________________________________________\n",
      "Layer (type)                 Output Shape              Param #   \n",
      "=================================================================\n",
      "dense (Dense)                (None, 8)                 40        \n",
      "_________________________________________________________________\n",
      "dense_1 (Dense)              (None, 3)                 27        \n",
      "=================================================================\n",
      "Total params: 67\n",
      "Trainable params: 67\n",
      "Non-trainable params: 0\n",
      "_________________________________________________________________\n",
      "Model: \"model_2\"\n",
      "_________________________________________________________________\n",
      "Layer (type)                 Output Shape              Param #   \n",
      "=================================================================\n",
      "dense_2 (Dense)              (None, 8)                 40        \n",
      "_________________________________________________________________\n",
      "dense_3 (Dense)              (None, 8)                 72        \n",
      "_________________________________________________________________\n",
      "dense_4 (Dense)              (None, 3)                 27        \n",
      "=================================================================\n",
      "Total params: 139\n",
      "Trainable params: 139\n",
      "Non-trainable params: 0\n",
      "_________________________________________________________________\n",
      "Model: \"model_3\"\n",
      "_________________________________________________________________\n",
      "Layer (type)                 Output Shape              Param #   \n",
      "=================================================================\n",
      "dense_5 (Dense)              (None, 8)                 40        \n",
      "_________________________________________________________________\n",
      "dense_6 (Dense)              (None, 8)                 72        \n",
      "_________________________________________________________________\n",
      "dense_7 (Dense)              (None, 8)                 72        \n",
      "_________________________________________________________________\n",
      "dense_8 (Dense)              (None, 3)                 27        \n",
      "=================================================================\n",
      "Total params: 211\n",
      "Trainable params: 211\n",
      "Non-trainable params: 0\n",
      "_________________________________________________________________\n"
     ]
    }
   ],
   "source": [
    "models = [create_model(n_features, n_classes, 8, i, f\"model_{i}\") for i in range(1,4)]\n",
    "\n",
    "for model in models:\n",
    "    model.summary()"
   ]
  },
  {
   "cell_type": "markdown",
   "metadata": {
    "papermill": {
     "duration": 0.007952,
     "end_time": "2020-10-18T12:13:40.476438",
     "exception": false,
     "start_time": "2020-10-18T12:13:40.468486",
     "status": "completed"
    },
    "tags": []
   },
   "source": [
    "# Train"
   ]
  },
  {
   "cell_type": "code",
   "execution_count": 7,
   "metadata": {
    "execution": {
     "iopub.execute_input": "2020-10-18T12:13:40.531338Z",
     "iopub.status.busy": "2020-10-18T12:13:40.530339Z",
     "iopub.status.idle": "2020-10-18T12:13:58.154760Z",
     "shell.execute_reply": "2020-10-18T12:13:58.154760Z"
    },
    "papermill": {
     "duration": 17.67037,
     "end_time": "2020-10-18T12:13:58.155784",
     "exception": false,
     "start_time": "2020-10-18T12:13:40.485414",
     "status": "completed"
    },
    "tags": []
   },
   "outputs": [
    {
     "name": "stdout",
     "output_type": "stream",
     "text": [
      "Model name: model_1\n"
     ]
    },
    {
     "name": "stdout",
     "output_type": "stream",
     "text": [
      "Test loss: 0.2860947251319885\n",
      "Test accuracy: 0.9066666960716248\n",
      "\n"
     ]
    },
    {
     "name": "stdout",
     "output_type": "stream",
     "text": [
      "Model name: model_2\n"
     ]
    },
    {
     "name": "stdout",
     "output_type": "stream",
     "text": [
      "Test loss: 0.3027593195438385\n",
      "Test accuracy: 0.9200000166893005\n",
      "\n"
     ]
    },
    {
     "name": "stdout",
     "output_type": "stream",
     "text": [
      "Model name: model_3\n"
     ]
    },
    {
     "name": "stdout",
     "output_type": "stream",
     "text": [
      "Test loss: 0.21792030334472656\n",
      "Test accuracy: 0.9333333373069763\n",
      "\n"
     ]
    }
   ],
   "source": [
    "history_dict = {}\n",
    "\n",
    "cb = TensorBoard()\n",
    "\n",
    "for model in models:\n",
    "    history_dict[model.name] = train_model(model, (X_train, X_test), (Y_train, Y_test), callbacks=[cb])"
   ]
  },
  {
   "cell_type": "code",
   "execution_count": 8,
   "metadata": {
    "execution": {
     "iopub.execute_input": "2020-10-18T12:13:58.179718Z",
     "iopub.status.busy": "2020-10-18T12:13:58.178701Z",
     "iopub.status.idle": "2020-10-18T12:13:58.185704Z",
     "shell.execute_reply": "2020-10-18T12:13:58.185704Z"
    },
    "papermill": {
     "duration": 0.019974,
     "end_time": "2020-10-18T12:13:58.185704",
     "exception": false,
     "start_time": "2020-10-18T12:13:58.165730",
     "status": "completed"
    },
    "tags": []
   },
   "outputs": [],
   "source": [
    "with open(\"../data/processed/training_results.json\", \"w+\") as f:\n",
    "    json.dump(history_dict, f, ensure_ascii=False, indent=4)"
   ]
  },
  {
   "cell_type": "code",
   "execution_count": null,
   "metadata": {
    "papermill": {
     "duration": 0.015958,
     "end_time": "2020-10-18T12:13:58.213601",
     "exception": false,
     "start_time": "2020-10-18T12:13:58.197643",
     "status": "completed"
    },
    "tags": []
   },
   "outputs": [],
   "source": []
  }
 ],
 "metadata": {
  "kernelspec": {
   "display_name": "Python 3",
   "language": "python",
   "name": "python3"
  },
  "language_info": {
   "codemirror_mode": {
    "name": "ipython",
    "version": 3
   },
   "file_extension": ".py",
   "mimetype": "text/x-python",
   "name": "python",
   "nbconvert_exporter": "python",
   "pygments_lexer": "ipython3",
   "version": "3.8.2"
  },
  "papermill": {
   "default_parameters": {},
   "duration": 23.913132,
   "end_time": "2020-10-18T12:13:58.940486",
   "environment_variables": {},
   "exception": null,
   "input_path": "3-Train-Model.ipynb",
   "output_path": "./papermill_executions/1603023199.415488\\3-Train-Model.ipynb",
   "parameters": {},
   "start_time": "2020-10-18T12:13:35.027354",
   "version": "2.2.0"
  }
 },
 "nbformat": 4,
 "nbformat_minor": 4
}