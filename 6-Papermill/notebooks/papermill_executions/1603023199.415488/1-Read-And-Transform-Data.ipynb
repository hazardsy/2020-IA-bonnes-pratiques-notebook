{
 "cells": [
  {
   "cell_type": "code",
   "execution_count": 1,
   "metadata": {
    "execution": {
     "iopub.execute_input": "2020-10-18T12:13:20.869968Z",
     "iopub.status.busy": "2020-10-18T12:13:20.868942Z",
     "iopub.status.idle": "2020-10-18T12:13:20.871968Z",
     "shell.execute_reply": "2020-10-18T12:13:20.871968Z"
    },
    "papermill": {
     "duration": 0.016945,
     "end_time": "2020-10-18T12:13:20.872961",
     "exception": false,
     "start_time": "2020-10-18T12:13:20.856016",
     "status": "completed"
    },
    "tags": []
   },
   "outputs": [],
   "source": [
    "import sys\n",
    "\n",
    "sys.path.append(\"..\")"
   ]
  },
  {
   "cell_type": "code",
   "execution_count": 2,
   "metadata": {
    "execution": {
     "iopub.execute_input": "2020-10-18T12:13:20.894872Z",
     "iopub.status.busy": "2020-10-18T12:13:20.893874Z",
     "iopub.status.idle": "2020-10-18T12:13:21.795267Z",
     "shell.execute_reply": "2020-10-18T12:13:21.794269Z"
    },
    "papermill": {
     "duration": 0.912333,
     "end_time": "2020-10-18T12:13:21.795267",
     "exception": false,
     "start_time": "2020-10-18T12:13:20.882934",
     "status": "completed"
    },
    "tags": []
   },
   "outputs": [],
   "source": [
    "import csv\n",
    "import json\n",
    "from source.DataTransformation import one_hot_encode, get_data_and_names, scale, split"
   ]
  },
  {
   "cell_type": "markdown",
   "metadata": {
    "papermill": {
     "duration": 0.007979,
     "end_time": "2020-10-18T12:13:21.812221",
     "exception": false,
     "start_time": "2020-10-18T12:13:21.804242",
     "status": "completed"
    },
    "tags": []
   },
   "source": [
    "# Lire la donnée"
   ]
  },
  {
   "cell_type": "code",
   "execution_count": 3,
   "metadata": {
    "execution": {
     "iopub.execute_input": "2020-10-18T12:13:21.834164Z",
     "iopub.status.busy": "2020-10-18T12:13:21.833166Z",
     "iopub.status.idle": "2020-10-18T12:13:21.839178Z",
     "shell.execute_reply": "2020-10-18T12:13:21.838166Z"
    },
    "papermill": {
     "duration": 0.017981,
     "end_time": "2020-10-18T12:13:21.839178",
     "exception": false,
     "start_time": "2020-10-18T12:13:21.821197",
     "status": "completed"
    },
    "tags": []
   },
   "outputs": [],
   "source": [
    "with open(\"../data/raw/iris.csv\", \"r\") as f:\n",
    "    iris = [row for row in csv.DictReader(f)]"
   ]
  },
  {
   "cell_type": "markdown",
   "metadata": {
    "papermill": {
     "duration": 0.00698,
     "end_time": "2020-10-18T12:13:21.854485",
     "exception": false,
     "start_time": "2020-10-18T12:13:21.847505",
     "status": "completed"
    },
    "tags": []
   },
   "source": [
    "# Transformer la donnée"
   ]
  },
  {
   "cell_type": "code",
   "execution_count": 4,
   "metadata": {
    "execution": {
     "iopub.execute_input": "2020-10-18T12:13:21.875428Z",
     "iopub.status.busy": "2020-10-18T12:13:21.875428Z",
     "iopub.status.idle": "2020-10-18T12:13:21.877395Z",
     "shell.execute_reply": "2020-10-18T12:13:21.877395Z"
    },
    "papermill": {
     "duration": 0.014958,
     "end_time": "2020-10-18T12:13:21.878392",
     "exception": false,
     "start_time": "2020-10-18T12:13:21.863434",
     "status": "completed"
    },
    "tags": []
   },
   "outputs": [],
   "source": [
    "X, Y, feature_names, class_names = get_data_and_names(iris)"
   ]
  },
  {
   "cell_type": "code",
   "execution_count": 5,
   "metadata": {
    "execution": {
     "iopub.execute_input": "2020-10-18T12:13:21.901331Z",
     "iopub.status.busy": "2020-10-18T12:13:21.899336Z",
     "iopub.status.idle": "2020-10-18T12:13:21.904323Z",
     "shell.execute_reply": "2020-10-18T12:13:21.904323Z"
    },
    "papermill": {
     "duration": 0.017953,
     "end_time": "2020-10-18T12:13:21.904323",
     "exception": false,
     "start_time": "2020-10-18T12:13:21.886370",
     "status": "completed"
    },
    "tags": []
   },
   "outputs": [],
   "source": [
    "encoded_Y = one_hot_encode(Y)\n",
    "\n",
    "# Scale data to have mean 0 and variance 1 \n",
    "# which is important for convergence of the neural network\n",
    "X_scaled = scale(X)\n",
    "\n",
    "(X_train, Y_train), (X_test, Y_test) = split(X_scaled, encoded_Y)\n",
    "\n",
    "n_features = len(feature_names)\n",
    "n_classes = len(class_names)"
   ]
  },
  {
   "cell_type": "markdown",
   "metadata": {
    "papermill": {
     "duration": 0.008955,
     "end_time": "2020-10-18T12:13:21.923274",
     "exception": false,
     "start_time": "2020-10-18T12:13:21.914319",
     "status": "completed"
    },
    "tags": []
   },
   "source": [
    "# Ecrire la donnée"
   ]
  },
  {
   "cell_type": "code",
   "execution_count": 6,
   "metadata": {
    "execution": {
     "iopub.execute_input": "2020-10-18T12:13:21.946523Z",
     "iopub.status.busy": "2020-10-18T12:13:21.945522Z",
     "iopub.status.idle": "2020-10-18T12:13:21.948488Z",
     "shell.execute_reply": "2020-10-18T12:13:21.948488Z"
    },
    "papermill": {
     "duration": 0.014235,
     "end_time": "2020-10-18T12:13:21.948488",
     "exception": false,
     "start_time": "2020-10-18T12:13:21.934253",
     "status": "completed"
    },
    "tags": []
   },
   "outputs": [],
   "source": [
    "training_data = {\n",
    "    \"X_train\": X_train.tolist(),\n",
    "    \"X_test\": X_test.tolist(),\n",
    "    \"Y_train\": Y_train.tolist(),\n",
    "    \"Y_test\": Y_test.tolist(),\n",
    "    \"n_features\": n_features,\n",
    "    \"n_classes\": n_classes\n",
    "}"
   ]
  },
  {
   "cell_type": "code",
   "execution_count": 7,
   "metadata": {
    "execution": {
     "iopub.execute_input": "2020-10-18T12:13:21.972424Z",
     "iopub.status.busy": "2020-10-18T12:13:21.971428Z",
     "iopub.status.idle": "2020-10-18T12:13:21.980403Z",
     "shell.execute_reply": "2020-10-18T12:13:21.981401Z"
    },
    "papermill": {
     "duration": 0.023926,
     "end_time": "2020-10-18T12:13:21.981401",
     "exception": false,
     "start_time": "2020-10-18T12:13:21.957475",
     "status": "completed"
    },
    "tags": []
   },
   "outputs": [],
   "source": [
    "with open(\"../data/processed/iris_training_data.json\", \"w+\") as f:\n",
    "    json.dump(training_data, f, ensure_ascii=False, indent=4)"
   ]
  },
  {
   "cell_type": "code",
   "execution_count": 8,
   "metadata": {
    "execution": {
     "iopub.execute_input": "2020-10-18T12:13:22.006334Z",
     "iopub.status.busy": "2020-10-18T12:13:22.005336Z",
     "iopub.status.idle": "2020-10-18T12:13:22.010322Z",
     "shell.execute_reply": "2020-10-18T12:13:22.009325Z"
    },
    "papermill": {
     "duration": 0.01795,
     "end_time": "2020-10-18T12:13:22.010322",
     "exception": false,
     "start_time": "2020-10-18T12:13:21.992372",
     "status": "completed"
    },
    "tags": []
   },
   "outputs": [],
   "source": [
    "visualisation_data = {\n",
    "    \"X\": X.tolist(),\n",
    "    \"y\": Y.tolist(),\n",
    "    \"names\": class_names,\n",
    "    \"feature_names\": feature_names,\n",
    "}"
   ]
  },
  {
   "cell_type": "code",
   "execution_count": 9,
   "metadata": {
    "execution": {
     "iopub.execute_input": "2020-10-18T12:13:22.043235Z",
     "iopub.status.busy": "2020-10-18T12:13:22.043235Z",
     "iopub.status.idle": "2020-10-18T12:13:22.050216Z",
     "shell.execute_reply": "2020-10-18T12:13:22.050216Z"
    },
    "papermill": {
     "duration": 0.026927,
     "end_time": "2020-10-18T12:13:22.050216",
     "exception": false,
     "start_time": "2020-10-18T12:13:22.023289",
     "status": "completed"
    },
    "tags": []
   },
   "outputs": [],
   "source": [
    "with open(\"../data/processed/iris_visualisation_data.json\", \"w+\") as f:\n",
    "    json.dump(visualisation_data, f, ensure_ascii=False, indent=4)"
   ]
  },
  {
   "cell_type": "code",
   "execution_count": null,
   "metadata": {
    "papermill": {
     "duration": 0.010971,
     "end_time": "2020-10-18T12:13:22.071160",
     "exception": false,
     "start_time": "2020-10-18T12:13:22.060189",
     "status": "completed"
    },
    "tags": []
   },
   "outputs": [],
   "source": []
  }
 ],
 "metadata": {
  "kernelspec": {
   "display_name": "Python 3",
   "language": "python",
   "name": "python3"
  },
  "language_info": {
   "codemirror_mode": {
    "name": "ipython",
    "version": 3
   },
   "file_extension": ".py",
   "mimetype": "text/x-python",
   "name": "python",
   "nbconvert_exporter": "python",
   "pygments_lexer": "ipython3",
   "version": "3.8.2"
  },
  "papermill": {
   "default_parameters": {},
   "duration": 2.793331,
   "end_time": "2020-10-18T12:13:22.387341",
   "environment_variables": {},
   "exception": null,
   "input_path": "1-Read-And-Transform-Data.ipynb",
   "output_path": "./papermill_executions/1603023199.415488\\1-Read-And-Transform-Data.ipynb",
   "parameters": {},
   "start_time": "2020-10-18T12:13:19.594010",
   "version": "2.2.0"
  }
 },
 "nbformat": 4,
 "nbformat_minor": 4
}