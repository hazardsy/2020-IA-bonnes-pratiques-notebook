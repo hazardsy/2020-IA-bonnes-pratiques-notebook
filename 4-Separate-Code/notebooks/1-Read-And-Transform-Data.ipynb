{
 "cells": [
  {
   "cell_type": "code",
   "execution_count": 1,
   "metadata": {},
   "outputs": [],
   "source": [
    "import sys\n",
    "\n",
    "sys.path.append(\"..\")"
   ]
  },
  {
   "cell_type": "code",
   "execution_count": 2,
   "metadata": {},
   "outputs": [],
   "source": [
    "import csv\n",
    "import json\n",
    "from source.DataTransformation import one_hot_encode, get_data_and_names, scale, split"
   ]
  },
  {
   "cell_type": "markdown",
   "metadata": {},
   "source": [
    "# Lire la donnée"
   ]
  },
  {
   "cell_type": "code",
   "execution_count": 3,
   "metadata": {},
   "outputs": [],
   "source": [
    "with open(\"../data/raw/iris.csv\", \"r\") as f:\n",
    "    iris = [row for row in csv.DictReader(f)]"
   ]
  },
  {
   "cell_type": "markdown",
   "metadata": {},
   "source": [
    "# Transformer la donnée"
   ]
  },
  {
   "cell_type": "code",
   "execution_count": 4,
   "metadata": {},
   "outputs": [],
   "source": [
    "X, Y, feature_names, class_names = get_data_and_names(iris)"
   ]
  },
  {
   "cell_type": "code",
   "execution_count": 5,
   "metadata": {},
   "outputs": [],
   "source": [
    "encoded_Y = one_hot_encode(Y)\n",
    "\n",
    "# Scale data to have mean 0 and variance 1 \n",
    "# which is important for convergence of the neural network\n",
    "X_scaled = scale(X)\n",
    "\n",
    "(X_train, Y_train), (X_test, Y_test) = split(X_scaled, encoded_Y)\n",
    "\n",
    "n_features = len(feature_names)\n",
    "n_classes = len(class_names)"
   ]
  },
  {
   "cell_type": "markdown",
   "metadata": {},
   "source": [
    "# Ecrire la donnée"
   ]
  },
  {
   "cell_type": "code",
   "execution_count": 6,
   "metadata": {},
   "outputs": [],
   "source": [
    "training_data = {\n",
    "    \"X_train\": X_train.tolist(),\n",
    "    \"X_test\": X_test.tolist(),\n",
    "    \"Y_train\": Y_train.tolist(),\n",
    "    \"Y_test\": Y_test.tolist(),\n",
    "    \"n_features\": n_features,\n",
    "    \"n_classes\": n_classes\n",
    "}"
   ]
  },
  {
   "cell_type": "code",
   "execution_count": 7,
   "metadata": {},
   "outputs": [],
   "source": [
    "with open(\"../data/processed/iris_training_data.json\", \"w+\") as f:\n",
    "    json.dump(training_data, f, ensure_ascii=False, indent=4)"
   ]
  },
  {
   "cell_type": "code",
   "execution_count": 8,
   "metadata": {},
   "outputs": [],
   "source": [
    "visualisation_data = {\n",
    "    \"X\": X.tolist(),\n",
    "    \"y\": Y.tolist(),\n",
    "    \"names\": class_names,\n",
    "    \"feature_names\": feature_names,\n",
    "}"
   ]
  },
  {
   "cell_type": "code",
   "execution_count": 9,
   "metadata": {},
   "outputs": [],
   "source": [
    "with open(\"../data/processed/iris_visualisation_data.json\", \"w+\") as f:\n",
    "    json.dump(visualisation_data, f, ensure_ascii=False, indent=4)"
   ]
  },
  {
   "cell_type": "code",
   "execution_count": null,
   "metadata": {},
   "outputs": [],
   "source": []
  }
 ],
 "metadata": {
  "kernelspec": {
   "display_name": "Python 3",
   "language": "python",
   "name": "python3"
  },
  "language_info": {
   "codemirror_mode": {
    "name": "ipython",
    "version": 3
   },
   "file_extension": ".py",
   "mimetype": "text/x-python",
   "name": "python",
   "nbconvert_exporter": "python",
   "pygments_lexer": "ipython3",
   "version": "3.8.2"
  }
 },
 "nbformat": 4,
 "nbformat_minor": 4
}
